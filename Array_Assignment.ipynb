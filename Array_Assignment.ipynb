{
 "cells": [
  {
   "cell_type": "code",
   "execution_count": 1,
   "id": "a9155140-6615-4fd7-8709-bf0377d63060",
   "metadata": {},
   "outputs": [
    {
     "name": "stdout",
     "output_type": "stream",
     "text": [
      "True\n"
     ]
    }
   ],
   "source": [
    "#1. Given an array, check if it contains any duplicates or not.\n",
    "#arr = [1, 2, 4, 2, 5, 9]\n",
    "#Output = True\n",
    "\n",
    "arr = [1, 2, 4, 2, 5, 9]\n",
    "\n",
    "def has_duplicates(array):                     \n",
    "    return len(array) != len(set(array)) #checking duplicates\n",
    "\n",
    "output = has_duplicates(arr)\n",
    "print(output)"
   ]
  },
  {
   "cell_type": "code",
   "execution_count": 6,
   "id": "cc448e2c-b2e0-477d-b425-f2fbfb68a98b",
   "metadata": {},
   "outputs": [
    {
     "name": "stdout",
     "output_type": "stream",
     "text": [
      "[5, 6, 7, 1, 2, 3, 4]\n"
     ]
    }
   ],
   "source": [
    "#2.2. Given an array and an integer k, rotate the array to the right by k steps.\n",
    "arr = [1, 2, 3, 4, 5, 6, 7] \n",
    "Output = [5, 6, 7, 1, 2, 3, 4] \n",
    "def rotating_array(arr, k):\n",
    "    n = len(arr)\n",
    "    k = k % n  # Ensure k is within the length of the array\n",
    "\n",
    "    # Rotate the array to the right by k steps\n",
    "    rotated_arr = arr[n - k:] + arr[:n - k]\n",
    "\n",
    "    return rotated_arr\n",
    "\n",
    "arr = [1, 2, 3, 4, 5, 6, 7]\n",
    "k = 3\n",
    "result = rotating_array(arr, k)\n",
    "print(result)\n",
    "            "
   ]
  },
  {
   "cell_type": "code",
   "execution_count": 15,
   "id": "5d2e1f1a-743a-4878-8454-dd4283919c86",
   "metadata": {},
   "outputs": [
    {
     "name": "stdout",
     "output_type": "stream",
     "text": [
      "[12, 9, 7, 5, 4, 2]\n"
     ]
    }
   ],
   "source": [
    "#3. Reverse the given array in-place, means without using any extra data structure.\n",
    "#arr = [2, 4, 5, 7, 9, 12]\n",
    "#Output = [12, 9, 7, 5, 4, 2]\n",
    "\n",
    "arr = [2, 4, 5, 7, 9, 12]\n",
    "arr.reverse()                #reversing the actual array by using keyword reverse\n",
    "print(arr)"
   ]
  },
  {
   "cell_type": "code",
   "execution_count": 11,
   "id": "2122cb3a-2778-4d5e-a0c0-3e98de1d198c",
   "metadata": {},
   "outputs": [
    {
     "name": "stdout",
     "output_type": "stream",
     "text": [
      "Maximum element in the array: 20\n"
     ]
    }
   ],
   "source": [
    "#4. Given an array of integers, find the maximum element in an array\n",
    "#arr = [10, 5, 20, 8, 15]\n",
    "#Output = 20\n",
    "def find_max_element(arr):\n",
    "    max_element = arr[0]  # Assume the first element is the maximum\n",
    "\n",
    "    for num in arr:\n",
    "        if num > max_element: \n",
    "            max_element = num\n",
    "\n",
    "    return max_element\n",
    "\n",
    "arr = [10, 5, 20, 8, 15]\n",
    "max_element = find_max_element(arr)\n",
    "print(\"Maximum element in the array:\", max_element)\n"
   ]
  },
  {
   "cell_type": "code",
   "execution_count": 8,
   "id": "076a3d90-af9a-4516-a3f6-1d419e1017b6",
   "metadata": {},
   "outputs": [
    {
     "name": "stdout",
     "output_type": "stream",
     "text": [
      "1 2 3 4 5 "
     ]
    }
   ],
   "source": [
    "#5. Given a sorted array, remove the duplicate element without using any extra data structure.\n",
    "#arr = [1, 1, 2, 2, 2, 3, 3, 4, 4, 4, 5, 5]\n",
    "#Output = [1, 2, 3, 4, 5]\n",
    "\n",
    "def remove_duplicates(arr):\n",
    "\tn = len(arr)\n",
    "\tif n <= 1:\n",
    "\t\treturn n\n",
    "\n",
    "\t# Use a set to store unique elements\n",
    "\tunique_elements = set(arr)\n",
    "\n",
    "\t# Update the original array with unique elements\n",
    "\tarr[:n] = unique_elements\n",
    "\n",
    "\t# Return the count of unique elements\n",
    "\treturn len(unique_elements)\n",
    "\n",
    "# Driver code\n",
    "if __name__ == \"__main__\":\n",
    "\tarr = [1, 1, 2, 2, 2, 3, 3, 4, 4, 4, 5, 5]\n",
    "\n",
    "\t# Remove duplicates and get the count of unique elements\n",
    "\tn = remove_duplicates(arr)\n",
    "\n",
    "\t# Print the modified array containing unique elements\n",
    "\tfor i in range(n):\n",
    "\t\tprint(arr[i], end=\" \")\n",
    "        "
   ]
  }
 ],
 "metadata": {
  "kernelspec": {
   "display_name": "Python 3 (ipykernel)",
   "language": "python",
   "name": "python3"
  },
  "language_info": {
   "codemirror_mode": {
    "name": "ipython",
    "version": 3
   },
   "file_extension": ".py",
   "mimetype": "text/x-python",
   "name": "python",
   "nbconvert_exporter": "python",
   "pygments_lexer": "ipython3",
   "version": "3.10.8"
  }
 },
 "nbformat": 4,
 "nbformat_minor": 5
}
